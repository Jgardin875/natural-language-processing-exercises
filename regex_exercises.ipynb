{
 "cells": [
  {
   "cell_type": "code",
   "execution_count": 1,
   "id": "cd8c9799",
   "metadata": {},
   "outputs": [],
   "source": [
    "import re\n",
    "import pandas as pd"
   ]
  },
  {
   "cell_type": "markdown",
   "id": "e3a232cc",
   "metadata": {},
   "source": [
    "# 1\n",
    "Write a function named is_vowel. It should accept a string as input and use a regular expression to determine if the passed string is a vowel. While not explicity mentioned in the lesson, you can treat the result of re.search as a boolean value that indicates whether or not the regular expression matches the given string."
   ]
  },
  {
   "cell_type": "code",
   "execution_count": 2,
   "id": "a7275c6a",
   "metadata": {},
   "outputs": [],
   "source": [
    "string = 'banana in IoU'"
   ]
  },
  {
   "cell_type": "code",
   "execution_count": 3,
   "id": "06da18b5",
   "metadata": {},
   "outputs": [],
   "source": [
    "def is_vowel(string):\n",
    "    return re.findall(r'[aeiou]', string, re.IGNORECASE)\n",
    "    "
   ]
  },
  {
   "cell_type": "code",
   "execution_count": 4,
   "id": "be71271f",
   "metadata": {
    "scrolled": true
   },
   "outputs": [
    {
     "data": {
      "text/plain": [
       "['a', 'a', 'a', 'i', 'I', 'o', 'U']"
      ]
     },
     "execution_count": 4,
     "metadata": {},
     "output_type": "execute_result"
    }
   ],
   "source": [
    "is_vowel(string)"
   ]
  },
  {
   "cell_type": "markdown",
   "id": "00835033",
   "metadata": {},
   "source": [
    "# 2.\n",
    "Write a function named is_valid_username that accepts a string as input. A valid username starts with a lowercase letter, and only consists of lowercase letters, numbers, or the _ character. It should also be no longer than 32 characters. The function should return either True or False depending on whether the passed string is a valid username."
   ]
  },
  {
   "cell_type": "code",
   "execution_count": 5,
   "id": "d4605f94",
   "metadata": {},
   "outputs": [],
   "source": [
    "string1 = '86thsldjsf'"
   ]
  },
  {
   "cell_type": "code",
   "execution_count": 6,
   "id": "491b8894",
   "metadata": {},
   "outputs": [],
   "source": [
    "string2 = 'askjdflkjTHEIRJOEJOJ99'"
   ]
  },
  {
   "cell_type": "code",
   "execution_count": 7,
   "id": "6f3c11f7",
   "metadata": {},
   "outputs": [],
   "source": [
    "string3 = 'a8_399'"
   ]
  },
  {
   "cell_type": "code",
   "execution_count": 8,
   "id": "d13efee7",
   "metadata": {},
   "outputs": [],
   "source": [
    "def a_is_valid_username(string):\n",
    "    if re.search(r'^([^a-z])', string):\n",
    "        return False   \n",
    "    elif re.search(r'^[a-z0-9_]{1,32}$', string):  # its inclusive, i checked\n",
    "        return True\n",
    "    else:\n",
    "        return False"
   ]
  },
  {
   "cell_type": "markdown",
   "id": "fec45a60",
   "metadata": {},
   "source": [
    "# String 1"
   ]
  },
  {
   "cell_type": "code",
   "execution_count": 9,
   "id": "463a7ab1",
   "metadata": {
    "scrolled": true
   },
   "outputs": [
    {
     "data": {
      "text/plain": [
       "<re.Match object; span=(0, 10), match='86thsldjsf'>"
      ]
     },
     "execution_count": 9,
     "metadata": {},
     "output_type": "execute_result"
    }
   ],
   "source": [
    "re.search(r'^[a-z0-9_]+$', string1)"
   ]
  },
  {
   "cell_type": "code",
   "execution_count": 10,
   "id": "df68026c",
   "metadata": {},
   "outputs": [
    {
     "data": {
      "text/plain": [
       "False"
      ]
     },
     "execution_count": 10,
     "metadata": {},
     "output_type": "execute_result"
    }
   ],
   "source": [
    "bool(re.search(r'^[a-z0-9_]{1,5}$', string1))"
   ]
  },
  {
   "cell_type": "code",
   "execution_count": 11,
   "id": "a1f7eef4",
   "metadata": {
    "scrolled": false
   },
   "outputs": [
    {
     "data": {
      "text/plain": [
       "False"
      ]
     },
     "execution_count": 11,
     "metadata": {},
     "output_type": "execute_result"
    }
   ],
   "source": [
    "a_is_valid_username(string1)"
   ]
  },
  {
   "cell_type": "markdown",
   "id": "7072ffc2",
   "metadata": {},
   "source": [
    "# String 2"
   ]
  },
  {
   "cell_type": "code",
   "execution_count": 12,
   "id": "d1f3be8d",
   "metadata": {
    "scrolled": true
   },
   "outputs": [],
   "source": [
    "re.search(r'^[a-z0-9_]+$', string2)"
   ]
  },
  {
   "cell_type": "code",
   "execution_count": 13,
   "id": "8663a07f",
   "metadata": {},
   "outputs": [
    {
     "data": {
      "text/plain": [
       "False"
      ]
     },
     "execution_count": 13,
     "metadata": {},
     "output_type": "execute_result"
    }
   ],
   "source": [
    "bool(re.search(r'^[a-z0-9_]+$', string2))"
   ]
  },
  {
   "cell_type": "code",
   "execution_count": 14,
   "id": "3bc1e209",
   "metadata": {
    "scrolled": false
   },
   "outputs": [
    {
     "data": {
      "text/plain": [
       "False"
      ]
     },
     "execution_count": 14,
     "metadata": {},
     "output_type": "execute_result"
    }
   ],
   "source": [
    "a_is_valid_username(string2)"
   ]
  },
  {
   "cell_type": "markdown",
   "id": "7b3f87a5",
   "metadata": {},
   "source": [
    "# String 3"
   ]
  },
  {
   "cell_type": "code",
   "execution_count": 15,
   "id": "f880c2aa",
   "metadata": {},
   "outputs": [
    {
     "data": {
      "text/plain": [
       "<re.Match object; span=(0, 6), match='a8_399'>"
      ]
     },
     "execution_count": 15,
     "metadata": {},
     "output_type": "execute_result"
    }
   ],
   "source": [
    "re.search(r'^[a-z0-9_]+$', string3)"
   ]
  },
  {
   "cell_type": "code",
   "execution_count": 16,
   "id": "e2056127",
   "metadata": {},
   "outputs": [
    {
     "data": {
      "text/plain": [
       "True"
      ]
     },
     "execution_count": 16,
     "metadata": {},
     "output_type": "execute_result"
    }
   ],
   "source": [
    "bool(re.search(r'^[a-z0-9_]+$', string3))"
   ]
  },
  {
   "cell_type": "code",
   "execution_count": 17,
   "id": "ecd973a9",
   "metadata": {
    "scrolled": true
   },
   "outputs": [
    {
     "data": {
      "text/plain": [
       "True"
      ]
     },
     "execution_count": 17,
     "metadata": {},
     "output_type": "execute_result"
    }
   ],
   "source": [
    "a_is_valid_username(string3)"
   ]
  },
  {
   "cell_type": "code",
   "execution_count": 18,
   "id": "1a7b2680",
   "metadata": {},
   "outputs": [],
   "source": [
    "def is_valid_username(string):\n",
    "    if re.search(r'^([^a-z])', string):\n",
    "        return False   \n",
    "    elif re.search(r'^[a-z0-9_]{1,32}$', string):  # its inclusive, i checked\n",
    "        return True\n",
    "    else:\n",
    "        return False"
   ]
  },
  {
   "cell_type": "markdown",
   "id": "b79b36c4",
   "metadata": {},
   "source": [
    "# Ask\n",
    ">>> is_valid_username('aaaaaaaaaaaaaaaaaaaaaaaaaaaaaaaaa')\n",
    "\n",
    "#>>> is_valid_username('codeup')\n",
    "\n",
    "#>>> is_valid_username('Codeup')\n",
    "\n",
    "#>>> is_valid_username('codeup123')\n",
    "\n",
    "#>>> is_valid_username('1codeup')\n"
   ]
  },
  {
   "cell_type": "code",
   "execution_count": 19,
   "id": "b1988d51",
   "metadata": {},
   "outputs": [
    {
     "data": {
      "text/plain": [
       "False"
      ]
     },
     "execution_count": 19,
     "metadata": {},
     "output_type": "execute_result"
    }
   ],
   "source": [
    "is_valid_username('aaaaaaaaaaaaaaaaaaaaaaaaaaaaaaaaa')"
   ]
  },
  {
   "cell_type": "code",
   "execution_count": 20,
   "id": "75599f85",
   "metadata": {},
   "outputs": [
    {
     "data": {
      "text/plain": [
       "True"
      ]
     },
     "execution_count": 20,
     "metadata": {},
     "output_type": "execute_result"
    }
   ],
   "source": [
    "is_valid_username('codeup')"
   ]
  },
  {
   "cell_type": "code",
   "execution_count": 21,
   "id": "109fa3fd",
   "metadata": {},
   "outputs": [
    {
     "data": {
      "text/plain": [
       "False"
      ]
     },
     "execution_count": 21,
     "metadata": {},
     "output_type": "execute_result"
    }
   ],
   "source": [
    "is_valid_username('Codeup')"
   ]
  },
  {
   "cell_type": "code",
   "execution_count": 22,
   "id": "d7d4000b",
   "metadata": {},
   "outputs": [
    {
     "data": {
      "text/plain": [
       "True"
      ]
     },
     "execution_count": 22,
     "metadata": {},
     "output_type": "execute_result"
    }
   ],
   "source": [
    "is_valid_username('codeup123')"
   ]
  },
  {
   "cell_type": "code",
   "execution_count": 23,
   "id": "18299e02",
   "metadata": {},
   "outputs": [
    {
     "data": {
      "text/plain": [
       "False"
      ]
     },
     "execution_count": 23,
     "metadata": {},
     "output_type": "execute_result"
    }
   ],
   "source": [
    "is_valid_username('1codeup')"
   ]
  },
  {
   "cell_type": "code",
   "execution_count": 24,
   "id": "c5c85b2f",
   "metadata": {},
   "outputs": [],
   "source": [
    "l = ['aaaaaaaaaaaaaaaaaaaaaaaaaaaaaaaaa', 'codeup', 'Codeup', 'codeup123', '1codeup']"
   ]
  },
  {
   "cell_type": "code",
   "execution_count": 25,
   "id": "68dc9871",
   "metadata": {
    "scrolled": true
   },
   "outputs": [
    {
     "name": "stdout",
     "output_type": "stream",
     "text": [
      "[False, True, False, True, False]\n"
     ]
    }
   ],
   "source": [
    "m = []\n",
    "for a in l:\n",
    "    b = is_valid_username(a)\n",
    "    m.append(b)\n",
    "\n",
    "print(m)"
   ]
  },
  {
   "cell_type": "markdown",
   "id": "aa85e7c6",
   "metadata": {},
   "source": [
    "# 3\n",
    "Write a regular expression to capture phone numbers. It should match all of the following:\n",
    "\n",
    "(210) 867 5309\n",
    "+1 210.867.5309\n",
    "867-5309\n",
    "210-867-5309\n"
   ]
  },
  {
   "cell_type": "code",
   "execution_count": 26,
   "id": "53024d98",
   "metadata": {},
   "outputs": [],
   "source": [
    "phone_num = ['(210) 867 5309', '+1 210.867.5309', '867-5309', '210-867-5309']"
   ]
  },
  {
   "cell_type": "code",
   "execution_count": 27,
   "id": "8cdbcd73",
   "metadata": {},
   "outputs": [
    {
     "data": {
      "text/plain": [
       "['(210) 867 5309', '+1 210.867.5309', '867-5309', '210-867-5309']"
      ]
     },
     "execution_count": 27,
     "metadata": {},
     "output_type": "execute_result"
    }
   ],
   "source": [
    "phone_num"
   ]
  },
  {
   "cell_type": "code",
   "execution_count": 28,
   "id": "4c1dca21",
   "metadata": {},
   "outputs": [],
   "source": [
    "string1 = '(210) 867 5309'\n",
    "string2 = '+1 210.867.5309'\n",
    "string3 = '867-5309'\n",
    "string4 = '210-867-5309'"
   ]
  },
  {
   "cell_type": "markdown",
   "id": "ee8e5899",
   "metadata": {},
   "source": [
    "# Explore"
   ]
  },
  {
   "cell_type": "code",
   "execution_count": 29,
   "id": "755b81ab",
   "metadata": {},
   "outputs": [
    {
     "data": {
      "text/plain": [
       "['(210)', '867', '5309']"
      ]
     },
     "execution_count": 29,
     "metadata": {},
     "output_type": "execute_result"
    }
   ],
   "source": [
    "re.split(r\"-| |\\.\", string1)"
   ]
  },
  {
   "cell_type": "code",
   "execution_count": 30,
   "id": "2b49d523",
   "metadata": {},
   "outputs": [
    {
     "data": {
      "text/plain": [
       "['+1', '210', '867', '5309']"
      ]
     },
     "execution_count": 30,
     "metadata": {},
     "output_type": "execute_result"
    }
   ],
   "source": [
    "re.split(r\"-| |\\.\", string2)"
   ]
  },
  {
   "cell_type": "code",
   "execution_count": 31,
   "id": "1576de53",
   "metadata": {},
   "outputs": [
    {
     "data": {
      "text/plain": [
       "['867', '5309']"
      ]
     },
     "execution_count": 31,
     "metadata": {},
     "output_type": "execute_result"
    }
   ],
   "source": [
    "re.split(r\"-| |\\.\", string3)"
   ]
  },
  {
   "cell_type": "code",
   "execution_count": 32,
   "id": "0d12b365",
   "metadata": {},
   "outputs": [
    {
     "data": {
      "text/plain": [
       "['210', '867', '5309']"
      ]
     },
     "execution_count": 32,
     "metadata": {},
     "output_type": "execute_result"
    }
   ],
   "source": [
    "re.split(r\"-| |\\.\", string4)"
   ]
  },
  {
   "cell_type": "markdown",
   "id": "e01adb5c",
   "metadata": {},
   "source": [
    "# Country code"
   ]
  },
  {
   "cell_type": "code",
   "execution_count": 33,
   "id": "7d0c9511",
   "metadata": {},
   "outputs": [
    {
     "data": {
      "text/plain": [
       "<re.Match object; span=(0, 2), match='+1'>"
      ]
     },
     "execution_count": 33,
     "metadata": {},
     "output_type": "execute_result"
    }
   ],
   "source": [
    "re.search(r'\\+[0-9]', string2)"
   ]
  },
  {
   "cell_type": "code",
   "execution_count": 34,
   "id": "af71d38d",
   "metadata": {},
   "outputs": [],
   "source": [
    "re.search(r'\\+[0-9]', string3)"
   ]
  },
  {
   "cell_type": "markdown",
   "id": "62c6b84a",
   "metadata": {},
   "source": [
    "# Area code/first 3"
   ]
  },
  {
   "cell_type": "code",
   "execution_count": 35,
   "id": "5df855d8",
   "metadata": {},
   "outputs": [
    {
     "data": {
      "text/plain": [
       "<re.Match object; span=(1, 4), match='210'>"
      ]
     },
     "execution_count": 35,
     "metadata": {},
     "output_type": "execute_result"
    }
   ],
   "source": [
    "re.search(r'[0-9]{3}', string1)"
   ]
  },
  {
   "cell_type": "code",
   "execution_count": 36,
   "id": "169f1b59",
   "metadata": {},
   "outputs": [
    {
     "data": {
      "text/plain": [
       "<re.Match object; span=(3, 6), match='210'>"
      ]
     },
     "execution_count": 36,
     "metadata": {},
     "output_type": "execute_result"
    }
   ],
   "source": [
    "re.search(r'[0-9]{3}', string2)"
   ]
  },
  {
   "cell_type": "code",
   "execution_count": 37,
   "id": "fad8aaeb",
   "metadata": {},
   "outputs": [
    {
     "data": {
      "text/plain": [
       "<re.Match object; span=(0, 3), match='867'>"
      ]
     },
     "execution_count": 37,
     "metadata": {},
     "output_type": "execute_result"
    }
   ],
   "source": [
    "re.search(r'[0-9]{3}', string3) #have to write condition for this one"
   ]
  },
  {
   "cell_type": "code",
   "execution_count": 38,
   "id": "0b6d8010",
   "metadata": {},
   "outputs": [
    {
     "data": {
      "text/plain": [
       "<re.Match object; span=(0, 3), match='210'>"
      ]
     },
     "execution_count": 38,
     "metadata": {},
     "output_type": "execute_result"
    }
   ],
   "source": [
    "re.search(r'[0-9]{3}', string4)"
   ]
  },
  {
   "cell_type": "markdown",
   "id": "37d1ad09",
   "metadata": {},
   "source": [
    "# Last Four"
   ]
  },
  {
   "cell_type": "code",
   "execution_count": 39,
   "id": "67120987",
   "metadata": {},
   "outputs": [
    {
     "data": {
      "text/plain": [
       "<re.Match object; span=(10, 14), match='5309'>"
      ]
     },
     "execution_count": 39,
     "metadata": {},
     "output_type": "execute_result"
    }
   ],
   "source": [
    "re.search(r'[0-9]{4}', string1)"
   ]
  },
  {
   "cell_type": "code",
   "execution_count": 40,
   "id": "642cde1e",
   "metadata": {},
   "outputs": [
    {
     "data": {
      "text/plain": [
       "<re.Match object; span=(11, 15), match='5309'>"
      ]
     },
     "execution_count": 40,
     "metadata": {},
     "output_type": "execute_result"
    }
   ],
   "source": [
    "re.search(r'[0-9]{4}', string2)"
   ]
  },
  {
   "cell_type": "code",
   "execution_count": 41,
   "id": "378d03ea",
   "metadata": {},
   "outputs": [
    {
     "data": {
      "text/plain": [
       "<re.Match object; span=(4, 8), match='5309'>"
      ]
     },
     "execution_count": 41,
     "metadata": {},
     "output_type": "execute_result"
    }
   ],
   "source": [
    "re.search(r'[0-9]{4}', string3)"
   ]
  },
  {
   "cell_type": "code",
   "execution_count": 42,
   "id": "808c351a",
   "metadata": {},
   "outputs": [
    {
     "data": {
      "text/plain": [
       "<re.Match object; span=(8, 12), match='5309'>"
      ]
     },
     "execution_count": 42,
     "metadata": {},
     "output_type": "execute_result"
    }
   ],
   "source": [
    "re.search(r'[0-9]{4}', string4)"
   ]
  },
  {
   "cell_type": "markdown",
   "id": "6363384c",
   "metadata": {},
   "source": [
    "#  Final"
   ]
  },
  {
   "cell_type": "code",
   "execution_count": 43,
   "id": "c1383892",
   "metadata": {},
   "outputs": [],
   "source": [
    "pattern = re.compile(r\"\"\"\n",
    "(?P<country_code>\\+[0-9])?\n",
    "(\\D*)?\n",
    "(?P<area_code>[0-9]{3})?\n",
    "(\\D*)?\n",
    "(?P<first_three>[0-9]{3})\n",
    "(\\D)?\n",
    "(?P<last_four>[0-9]{4})\n",
    "\"\"\", re.VERBOSE)"
   ]
  },
  {
   "cell_type": "markdown",
   "id": "7a4690be",
   "metadata": {},
   "source": [
    "# Test"
   ]
  },
  {
   "cell_type": "code",
   "execution_count": 44,
   "id": "41fe2e56",
   "metadata": {},
   "outputs": [
    {
     "data": {
      "text/plain": [
       "{'country_code': None,\n",
       " 'area_code': '210',\n",
       " 'first_three': '867',\n",
       " 'last_four': '5309'}"
      ]
     },
     "execution_count": 44,
     "metadata": {},
     "output_type": "execute_result"
    }
   ],
   "source": [
    "re.search(pattern, string1).groupdict()"
   ]
  },
  {
   "cell_type": "code",
   "execution_count": 45,
   "id": "f8669271",
   "metadata": {},
   "outputs": [
    {
     "data": {
      "text/plain": [
       "{'country_code': '+1',\n",
       " 'area_code': '210',\n",
       " 'first_three': '867',\n",
       " 'last_four': '5309'}"
      ]
     },
     "execution_count": 45,
     "metadata": {},
     "output_type": "execute_result"
    }
   ],
   "source": [
    "re.search(pattern, string2).groupdict()"
   ]
  },
  {
   "cell_type": "code",
   "execution_count": 46,
   "id": "f3964ed5",
   "metadata": {},
   "outputs": [
    {
     "data": {
      "text/plain": [
       "{'country_code': None,\n",
       " 'area_code': None,\n",
       " 'first_three': '867',\n",
       " 'last_four': '5309'}"
      ]
     },
     "execution_count": 46,
     "metadata": {},
     "output_type": "execute_result"
    }
   ],
   "source": [
    "re.search(pattern, string3).groupdict()"
   ]
  },
  {
   "cell_type": "code",
   "execution_count": 47,
   "id": "173db582",
   "metadata": {
    "scrolled": true
   },
   "outputs": [
    {
     "data": {
      "text/plain": [
       "{'country_code': None,\n",
       " 'area_code': '210',\n",
       " 'first_three': '867',\n",
       " 'last_four': '5309'}"
      ]
     },
     "execution_count": 47,
     "metadata": {},
     "output_type": "execute_result"
    }
   ],
   "source": [
    "re.search(pattern, string4).groupdict()"
   ]
  },
  {
   "cell_type": "markdown",
   "id": "6f55d9cb",
   "metadata": {},
   "source": [
    "# 4\n",
    "Use regular expressions to convert the dates below to the standardized year-month-day format.\n",
    "\n",
    "02/04/19\n",
    "02/05/19\n",
    "02/06/19\n",
    "02/07/19\n",
    "02/08/19\n",
    "02/09/19\n",
    "02/10/19"
   ]
  },
  {
   "cell_type": "code",
   "execution_count": 48,
   "id": "d4374ff0",
   "metadata": {},
   "outputs": [],
   "source": [
    "pattern = re.compile(r\"\"\"\n",
    "(?P<month>[0-9]{2})\n",
    ".\n",
    "(?P<day>[0-9]{2})\n",
    ".\n",
    "(?P<year>[0-9]{2})\n",
    "\"\"\", re.VERBOSE)"
   ]
  },
  {
   "cell_type": "markdown",
   "id": "354b5b79",
   "metadata": {},
   "source": [
    "# Method 1"
   ]
  },
  {
   "cell_type": "code",
   "execution_count": 49,
   "id": "d06133cc",
   "metadata": {
    "scrolled": true
   },
   "outputs": [
    {
     "data": {
      "text/plain": [
       "{'month': '02', 'day': '04', 'year': '19'}"
      ]
     },
     "execution_count": 49,
     "metadata": {},
     "output_type": "execute_result"
    }
   ],
   "source": [
    "#test on one \n",
    "re.search(pattern, '02/04/19').groupdict()"
   ]
  },
  {
   "cell_type": "code",
   "execution_count": 50,
   "id": "8a071995",
   "metadata": {},
   "outputs": [],
   "source": [
    "# prep for loop\n",
    "dates =['02/04/19','02/05/19','02/06/19','02/07/19','02/08/19','02/09/19','02/10/19']"
   ]
  },
  {
   "cell_type": "code",
   "execution_count": 51,
   "id": "4beca631",
   "metadata": {
    "scrolled": true
   },
   "outputs": [
    {
     "name": "stdout",
     "output_type": "stream",
     "text": [
      "19 / 02 / 04\n",
      "19 / 02 / 05\n",
      "19 / 02 / 06\n",
      "19 / 02 / 07\n",
      "19 / 02 / 08\n",
      "19 / 02 / 09\n",
      "19 / 02 / 10\n"
     ]
    }
   ],
   "source": [
    "for date in dates:\n",
    "    l= re.search(pattern, date).groupdict()\n",
    "    print(f\"{l['year']} / {l['month']} / {l['day']}\")\n",
    "# can also append to a list and turn into a dataframe"
   ]
  },
  {
   "cell_type": "markdown",
   "id": "f4be66b2",
   "metadata": {},
   "source": [
    "# Method two (incomplete)"
   ]
  },
  {
   "cell_type": "code",
   "execution_count": 52,
   "id": "d9c942a2",
   "metadata": {
    "scrolled": true
   },
   "outputs": [
    {
     "data": {
      "text/plain": [
       "<re.Match object; span=(12, 14), match='09'>"
      ]
     },
     "execution_count": 52,
     "metadata": {},
     "output_type": "execute_result"
    }
   ],
   "source": [
    "re.search(r'\\d{2}$', string1)"
   ]
  },
  {
   "cell_type": "code",
   "execution_count": 53,
   "id": "8889b55c",
   "metadata": {
    "scrolled": false
   },
   "outputs": [],
   "source": [
    "re.search(r'^\\d{2}', string1)"
   ]
  },
  {
   "cell_type": "code",
   "execution_count": 54,
   "id": "c095c22b",
   "metadata": {},
   "outputs": [],
   "source": [
    "re.search(r'(/[0-9]{2})', string1)"
   ]
  },
  {
   "cell_type": "markdown",
   "id": "f7d5726f",
   "metadata": {},
   "source": [
    "# 5\n",
    "Write a regex to extract the various parts of these logfile lines:\n",
    "\n",
    "GET /api/v1/sales?page=86 [16/Apr/2019:193452+0000] HTTP/1.1 {200} 510348 \"python-requests/2.21.0\" 97.105.19.58\n",
    "\n",
    "POST /users_accounts/file-upload [16/Apr/2019:193452+0000] HTTP/1.1 {201} 42 \"User-Agent: Mozilla/5.0 (X11; Fedora; Fedora; Linux x86_64) AppleWebKit/537.36 (KHTML, like Gecko) Chrome/73.0.3683.86 Safari/537.36\" 97.105.19.58\n",
    "\n",
    "GET /api/v1/items?page=3 [16/Apr/2019:193453+0000] HTTP/1.1 {429} 3561 \"python-requests/2.21.0\" 97.105.19.58\n"
   ]
  },
  {
   "cell_type": "code",
   "execution_count": null,
   "id": "c21dfc94",
   "metadata": {},
   "outputs": [],
   "source": []
  },
  {
   "cell_type": "code",
   "execution_count": null,
   "id": "cee2d5c9",
   "metadata": {},
   "outputs": [],
   "source": []
  },
  {
   "cell_type": "code",
   "execution_count": null,
   "id": "f34e7bf7",
   "metadata": {},
   "outputs": [],
   "source": []
  }
 ],
 "metadata": {
  "kernelspec": {
   "display_name": "Python 3 (ipykernel)",
   "language": "python",
   "name": "python3"
  },
  "language_info": {
   "codemirror_mode": {
    "name": "ipython",
    "version": 3
   },
   "file_extension": ".py",
   "mimetype": "text/x-python",
   "name": "python",
   "nbconvert_exporter": "python",
   "pygments_lexer": "ipython3",
   "version": "3.9.12"
  }
 },
 "nbformat": 4,
 "nbformat_minor": 5
}
